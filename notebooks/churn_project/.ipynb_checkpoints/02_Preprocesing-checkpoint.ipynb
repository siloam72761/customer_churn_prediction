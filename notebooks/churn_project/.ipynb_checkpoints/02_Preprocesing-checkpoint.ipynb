{
 "cells": [
  {
   "cell_type": "code",
   "execution_count": 39,
   "id": "8223a7a2-7f03-49bf-b0a7-4b9dde604f66",
   "metadata": {},
   "outputs": [],
   "source": [
    "import pandas as pd\n",
    "from sklearn.preprocessing import LabelEncoder\n",
    "\n",
    "pd.set_option(\"display.max_rows\", 10)\n",
    "customer_churn_reviews = pd.read_csv(\"../../data/churn_data.csv\", index_col = 0)"
   ]
  },
  {
   "cell_type": "code",
   "execution_count": 40,
   "id": "6ce86cf2-b4c1-4441-af58-4a5a7d3f5fba",
   "metadata": {},
   "outputs": [
    {
     "data": {
      "text/plain": [
       "gender              0\n",
       "SeniorCitizen       0\n",
       "Partner             0\n",
       "Dependents          0\n",
       "tenure              0\n",
       "                   ..\n",
       "PaperlessBilling    0\n",
       "PaymentMethod       0\n",
       "MonthlyCharges      0\n",
       "TotalCharges        0\n",
       "Churn               0\n",
       "Length: 20, dtype: int64"
      ]
     },
     "execution_count": 40,
     "metadata": {},
     "output_type": "execute_result"
    }
   ],
   "source": [
    "# 1. 결측치 확인하기\n",
    "\n",
    "# 각 컬럼별 결측치 개수 확인\n",
    "customer_churn_reviews.isnull().sum()\n",
    "\n",
    "#확인 결과 결측치의 개수가 0이므로 결측치 처리는 건너뛴다."
   ]
  },
  {
   "cell_type": "code",
   "execution_count": 41,
   "id": "688464f4-2e19-4147-8b75-6ad9865a3ef7",
   "metadata": {},
   "outputs": [],
   "source": [
    "#머신러닝을 쓸 예정이기에, 문자열(범주형 변수)는 숫자형으로 변한이 필요.\n",
    "\n",
    "#범주형 변수 인코딩 방법에는 2가지가 있음.\n",
    "#1. Label Encoding : 각 볌주를 정수 값으로 변환, gender -> Male(0), Female(1) 간단하나, 숫자로 변환하면 모델이 순서를 오해할 수 있음\n",
    "#2. One-Hot Encoding : 컬럼을 범주별로 새로 만들어서 0/1로 표시, InternetService -> DSL, Fiber optic, NO 3개의 컬럼 생성, 단점 : 컬럼 수가 늘어난다.\n",
    "\n",
    "#성별 같은 단순한 이진 변수 -> Label Encoding\n",
    "#3개 이상 범주가 있는 컬럼(PaymentMethod, Contract 등) -> One-Hot Encoding"
   ]
  },
  {
   "cell_type": "code",
   "execution_count": 42,
   "id": "15f2dfb9-51a4-4010-8952-d76d815537ee",
   "metadata": {},
   "outputs": [
    {
     "name": "stdout",
     "output_type": "stream",
     "text": [
      "이진 변수(Binary Variables): ['gender', 'Partner', 'Dependents', 'PhoneService', 'PaperlessBilling', 'Churn']\n",
      "다중 범주 변수(Multi-class Variables): ['MultipleLines', 'InternetService', 'OnlineSecurity', 'OnlineBackup', 'DeviceProtection', 'TechSupport', 'StreamingTV', 'StreamingMovies', 'Contract', 'PaymentMethod', 'TotalCharges']\n"
     ]
    }
   ],
   "source": [
    "#따라서 컬럼 별로 이진 변수인지, 3개 이상 범주형 변수인지 나눈다.\n",
    "\n",
    "#범주형 컬럼 찾기\n",
    "categorical_cols = customer_churn_reviews.select_dtypes(include=['object']).columns\n",
    "\n",
    "#이진 변수 / 다중 범주 변수 구분\n",
    "binary_vars = []\n",
    "multi_vars = []\n",
    "\n",
    "for col in categorical_cols:\n",
    "    unique_vals = customer_churn_reviews[col].nunique() #고유값 개수\n",
    "    if unique_vals == 2:\n",
    "        binary_vars.append(col) #값이 2개 -> 이진 변수\n",
    "    elif unique_vals > 2:\n",
    "        multi_vars.append(col) #값이 3개 이상 -> 다중 변수\n",
    "\n",
    "print(\"이진 변수(Binary Variables):\", binary_vars) #Label Encoding 할 변수\n",
    "print(\"다중 범주 변수(Multi-class Variables):\", multi_vars) #One-Hot Encoding 할 변수"
   ]
  },
  {
   "cell_type": "code",
   "execution_count": 43,
   "id": "e942d705-f22c-4205-856b-cd25974eac18",
   "metadata": {},
   "outputs": [
    {
     "name": "stdout",
     "output_type": "stream",
     "text": [
      "            gender  SeniorCitizen  Partner  Dependents  tenure  PhoneService  \\\n",
      "customerID                                                                     \n",
      "7590-VHVEG       0              0        1           0       1             0   \n",
      "5575-GNVDE       1              0        0           0      34             1   \n",
      "3668-QPYBK       1              0        0           0       2             1   \n",
      "7795-CFOCW       1              0        0           0      45             0   \n",
      "9237-HQITU       0              0        0           0       2             1   \n",
      "\n",
      "            PaperlessBilling  MonthlyCharges TotalCharges  Churn  ...  \\\n",
      "customerID                                                        ...   \n",
      "7590-VHVEG                 1           29.85        29.85      0  ...   \n",
      "5575-GNVDE                 0           56.95       1889.5      0  ...   \n",
      "3668-QPYBK                 1           53.85       108.15      1  ...   \n",
      "7795-CFOCW                 0           42.30      1840.75      0  ...   \n",
      "9237-HQITU                 1           70.70       151.65      1  ...   \n",
      "\n",
      "            StreamingMovies_No  StreamingMovies_No internet service  \\\n",
      "customerID                                                            \n",
      "7590-VHVEG                True                                False   \n",
      "5575-GNVDE                True                                False   \n",
      "3668-QPYBK                True                                False   \n",
      "7795-CFOCW                True                                False   \n",
      "9237-HQITU                True                                False   \n",
      "\n",
      "            StreamingMovies_Yes  Contract_Month-to-month  Contract_One year  \\\n",
      "customerID                                                                    \n",
      "7590-VHVEG                False                     True              False   \n",
      "5575-GNVDE                False                    False               True   \n",
      "3668-QPYBK                False                     True              False   \n",
      "7795-CFOCW                False                    False               True   \n",
      "9237-HQITU                False                     True              False   \n",
      "\n",
      "            Contract_Two year  PaymentMethod_Bank transfer (automatic)  \\\n",
      "customerID                                                               \n",
      "7590-VHVEG              False                                    False   \n",
      "5575-GNVDE              False                                    False   \n",
      "3668-QPYBK              False                                    False   \n",
      "7795-CFOCW              False                                     True   \n",
      "9237-HQITU              False                                    False   \n",
      "\n",
      "            PaymentMethod_Credit card (automatic)  \\\n",
      "customerID                                          \n",
      "7590-VHVEG                                  False   \n",
      "5575-GNVDE                                  False   \n",
      "3668-QPYBK                                  False   \n",
      "7795-CFOCW                                  False   \n",
      "9237-HQITU                                  False   \n",
      "\n",
      "            PaymentMethod_Electronic check  PaymentMethod_Mailed check  \n",
      "customerID                                                              \n",
      "7590-VHVEG                            True                       False  \n",
      "5575-GNVDE                           False                        True  \n",
      "3668-QPYBK                           False                        True  \n",
      "7795-CFOCW                           False                       False  \n",
      "9237-HQITU                            True                       False  \n",
      "\n",
      "[5 rows x 41 columns]\n"
     ]
    }
   ],
   "source": [
    "# 1. 이진 변수 Label Encoding\n",
    "binary_vars = ['gender', 'Partner', 'Dependents', 'PhoneService', 'PaperlessBilling']\n",
    "le = LabelEncoder()\n",
    "for col in binary_vars:\n",
    "    customer_churn_reviews[col] = le.fit_transform(customer_churn_reviews[col])\n",
    "\n",
    "# Churn(타겟)도 Yes=1, No=0으로 인코딩\n",
    "customer_churn_reviews['Churn'] = customer_churn_reviews['Churn'].map({'Yes': 1, 'No': 0})\n",
    "\n",
    "# 2. 다중 범주형 변수 One-Hot Encoding\n",
    "multi_vars = ['MultipleLines', 'InternetService', 'OnlineSecurity', 'OnlineBackup',\n",
    "              'DeviceProtection', 'TechSupport', 'StreamingTV', 'StreamingMovies',\n",
    "              'Contract', 'PaymentMethod']\n",
    "\n",
    "customer_churn_reviews = pd.get_dummies(customer_churn_reviews, columns=multi_vars)\n",
    "\n",
    "print(customer_churn_reviews.head())"
   ]
  },
  {
   "cell_type": "code",
   "execution_count": 48,
   "id": "bd9edb6b-d96b-41f2-99ea-95d4a779fb89",
   "metadata": {},
   "outputs": [
    {
     "data": {
      "text/plain": [
       "gender                                     int64\n",
       "SeniorCitizen                              int64\n",
       "Partner                                    int64\n",
       "Dependents                                 int64\n",
       "tenure                                     int64\n",
       "                                           ...  \n",
       "Contract_Two year                           bool\n",
       "PaymentMethod_Bank transfer (automatic)     bool\n",
       "PaymentMethod_Credit card (automatic)       bool\n",
       "PaymentMethod_Electronic check              bool\n",
       "PaymentMethod_Mailed check                  bool\n",
       "Length: 41, dtype: object"
      ]
     },
     "execution_count": 48,
     "metadata": {},
     "output_type": "execute_result"
    }
   ],
   "source": [
    "#get_dummies 코드가 있을 때 dtype 메소드를 실행시키지 말 것. \n",
    "#Jupyter 특성상 같은 셀 안에서 호출되면 원본 컬럼을 못 찾아서 KeyError 발생\n",
    "\n",
    "customer_churn_reviews.dtypes"
   ]
  },
  {
   "cell_type": "code",
   "execution_count": null,
   "id": "aac3d84a-d811-43cb-92ee-4511476f78ed",
   "metadata": {},
   "outputs": [],
   "source": []
  }
 ],
 "metadata": {
  "kernelspec": {
   "display_name": "Python 3 (ipykernel)",
   "language": "python",
   "name": "python3"
  },
  "language_info": {
   "codemirror_mode": {
    "name": "ipython",
    "version": 3
   },
   "file_extension": ".py",
   "mimetype": "text/x-python",
   "name": "python",
   "nbconvert_exporter": "python",
   "pygments_lexer": "ipython3",
   "version": "3.13.3"
  }
 },
 "nbformat": 4,
 "nbformat_minor": 5
}
